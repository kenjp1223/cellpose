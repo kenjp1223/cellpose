{
 "cells": [
  {
   "cell_type": "markdown",
   "metadata": {},
   "source": [
    "This is a jupyter notebook to segment cells using cellpose.\n",
    "Cellpose is pretty good at segmenting cells or nuclei that have membrane signals.\n",
    "It does not rely much on background signal intensity, therefore it can detect small holes on the tissue that are actually not cells. \n",
    "In general, the program has 2 major issues.\n",
    "1. The program is not good at analyzing images with no cells. This seems to be due to auto-adjustment of signal intensity. \n",
    "   This means that if there is no cell, the program automatically induces the gain of the images, which causes incorrect segmentation.\n",
    "2. It feels like the program is not good at segmenting sections which are large. There is another script that chops the image into small pieces, which might help."
   ]
  },
  {
   "cell_type": "code",
   "execution_count": 1,
   "metadata": {},
   "outputs": [],
   "source": [
    "import numpy as np\n",
    "import time, os, sys\n",
    "from urllib.parse import urlparse\n",
    "import skimage.io\n",
    "import matplotlib.pyplot as plt\n",
    "import matplotlib as mpl\n",
    "%matplotlib inline\n",
    "mpl.rcParams['figure.dpi'] = 300\n",
    "from cellpose import utils\n",
    "import skimage.filters as filt\n",
    "from scipy import ndimage\n",
    "# create matrix of cell probability based on threshold\n",
    "from skimage.feature import peak_local_max\n",
    "import skimage.filters as filt\n",
    "from scipy import ndimage\n",
    "import json\n"
   ]
  },
  {
   "cell_type": "markdown",
   "metadata": {},
   "source": [
    "The following code will set the paths. Put in the path that contains image(s). A result folder will be created in root of the image path. "
   ]
  },
  {
   "cell_type": "code",
   "execution_count": 3,
   "metadata": {},
   "outputs": [
    {
     "name": "stdout",
     "output_type": "stream",
     "text": [
      "Enter the path of images: D:\\Stuber_lab\\KI\\cellpose\\sample_imgs_crop\n"
     ]
    }
   ],
   "source": [
    "start= time.time()\n",
    "\n",
    "\n",
    "img_path = input(\"Enter the path of images: \")\n",
    "#img_path = r'./sample_imgs_crop' # the image data shold be 8 bit gray or 24 bit rgb. This should be inside the cellpose root\n",
    "os.chdir(img_path)\n",
    "os.chdir(\"..\")\n",
    "\n",
    "\n",
    "# create paths to save coordinate data\n",
    "out_root = './result'\n",
    "coordinate_path = os.path.join(out_root,'coordinate')\n",
    "mask_path = os.path.join(out_root,'masks')\n",
    "flow_path = os.path.join(out_root,'flows')\n",
    "tiles_path = os.path.join(out_root,'tiles')\n",
    "summary_path = os.path.join(out_root,'summary')\n",
    "roi_path = os.path.join(out_root,'roi')\n",
    "styles_path = os.path.join(out_root,'styles')\n",
    "diams_path = os.path.join(out_root,'diams')\n",
    "prob_path = os.path.join(out_root,'probabilities')\n",
    "meta_path = os.path.join(out_root,'meta')\n",
    "\n",
    "# create the paths\n",
    "for x in [out_root,coordinate_path,mask_path,flow_path,roi_path,styles_path,diams_path,tiles_path,summary_path,prob_path,meta_path]:\n",
    "    if not os.path.exists(x):\n",
    "        os.mkdir(x)"
   ]
  },
  {
   "cell_type": "markdown",
   "metadata": {},
   "source": [
    " The following code will set the parameters. You can either modify the \"variables.json\" file within the notebook folder, or manually set the variables in the following cell."
   ]
  },
  {
   "cell_type": "code",
   "execution_count": 4,
   "metadata": {},
   "outputs": [],
   "source": [
    "# SET VARIABLES\n",
    "variable_file = [f for f in os.listdir('./notebooks/') if 'variables.json' in f]\n",
    "if len(variable_file) != 0:    \n",
    "    # Read JSON file\n",
    "    with open(os.path.join('./notebooks',variable_file[0])) as data_file:\n",
    "        variables = json.load(data_file)\n",
    "    model_type = variables['model_type']\n",
    "    channel_type = variables['channel_type']\n",
    "    diameter = variables['diameter']\n",
    "    cellprob_threshold = variables['cellprob_threshold']\n",
    "    flow_threshold = variables['flow_threshold']\n",
    "    gpu = variables['gpu']\n",
    "else:\n",
    "    # vairables for cellpose\n",
    "    model_type ='cyto' #or nuclei\n",
    "    channel_type = [0,0] #for gray [0,0], for rgb set [signal channel,nuc channel], r = 1,g=2,b=3\n",
    "    # channels = [2,3] # IF YOU HAVE G=cytoplasm and B=nucleus\n",
    "    # channels = [2,1] # IF YOU HAVE G=cytoplasm and R=nucleus\n",
    "    diameter = 20 #set the diameter for the cell, if set False, the program will run an automatic size detection algorithm.\n",
    "    # threshold used to detect the maxima of cells/coordinate\n",
    "    # these values are  critical to get good S/N.\n",
    "    # it would be better to play around with these parameters \n",
    "    cellprob_threshold = False\n",
    "    flow_threshold = False\n",
    "    # use gpu or not\n",
    "    gpu = True\n",
    "\n",
    "# create a img_list\n",
    "img_list = [f for f in os.listdir(img_path) if '.tif' in f]\n",
    "imgs = [skimage.io.imread(os.path.join(img_path,f)) for f in img_list]"
   ]
  },
  {
   "cell_type": "code",
   "execution_count": 5,
   "metadata": {},
   "outputs": [
    {
     "name": "stdout",
     "output_type": "stream",
     "text": [
      ">>>> using GPU\n",
      "processing 1 image(s)\n"
     ]
    }
   ],
   "source": [
    "# RUN CELLPOSE\n",
    "\n",
    "from cellpose import models\n",
    "\n",
    "# DEFINE CELLPOSE MODEL\n",
    "# model_type='cyto' or model_type='nuclei'\n",
    "model = models.Cellpose(gpu=gpu , model_type=model_type) # If there is no GPU, this will automatically go to CPU mode.\n",
    "\n",
    "# define CHANNELS to run segementation on\n",
    "# grayscale=0, R=1, G=2, B=3\n",
    "# channels = [cytoplasm, nucleus]\n",
    "# if NUCLEUS channel does not exist, set the second channel to 0\n",
    "# channels = [0,0]\n",
    "# IF ALL YOUR IMAGES ARE THE SAME TYPE, you can give a list with 2 elements\n",
    "# channels = [0,0] # IF YOU HAVE GRAYSCALE\n",
    "# channels = [2,3] # IF YOU HAVE G=cytoplasm and B=nucleus\n",
    "# channels = [2,1] # IF YOU HAVE G=cytoplasm and R=nucleus\n",
    "\n",
    "# or if you have different types of channels in each image\n",
    "channels = [channel_type]*len(img_list)\n",
    "\n",
    "# if diameter is set to None, the size of the cells is estimated on a per image basis\n",
    "# you can set the average cell `diameter` in pixels yourself (recommended) \n",
    "# diameter can be a list or a single number for all images\n",
    "masks, flows, styles, diams = model.eval(imgs, diameter=diameter, channels=channels,cellprob_threshold= cellprob_threshold,flow_threshold=flow_threshold)\n"
   ]
  },
  {
   "cell_type": "markdown",
   "metadata": {},
   "source": [
    "The following 4 cells will create and save result files. It will save all the raw output files of cellpose as well as a summarized figure that shows the mask and flows for each cell. There will be an additional csv file containing the coordinate of the centroid of cell."
   ]
  },
  {
   "cell_type": "code",
   "execution_count": 6,
   "metadata": {},
   "outputs": [],
   "source": [
    "# DISPLAY RESULTS\n",
    "from cellpose import plot\n",
    "\n",
    "nimg = len(imgs)\n",
    "for idx in range(nimg):\n",
    "    maski = masks[idx]\n",
    "    flowi = flows[idx][0]\n",
    "\n",
    "    fig = plt.figure(figsize = (25,15))\n",
    "    plot.show_segmentation(fig, imgs[idx], maski, flowi, channels=channels[idx])\n",
    "    plt.savefig(os.path.join(summary_path,img_list[idx].replace('.tif','') +'_summary.png'),format = 'png',dpi = 216,bbox_inches = 'tight')\n",
    "    plt.close()\n"
   ]
  },
  {
   "cell_type": "code",
   "execution_count": 7,
   "metadata": {},
   "outputs": [],
   "source": [
    "## EXTRACT COORDINATE FOR EACH ROI\n",
    "\n",
    "# reload imgs\n",
    "imgs = [skimage.io.imread(os.path.join(img_path,f)) for f in img_list]\n",
    "\n",
    "import pandas as pd\n",
    "# detecting center of mass for each mask and creating a 2d-array as a roi image\n",
    "centers = [[list(ndimage.center_of_mass((np.ones(mask.shape)*[mask == k])[0])) for k in np.unique(mask)[1:]] for idx,mask in enumerate(masks)]\n",
    "dfs = []\n",
    "rois = []\n",
    "for c,center in enumerate(centers):\n",
    "    temp_roi = np.zeros(imgs[c].shape)\n",
    "    \n",
    "    if center:\n",
    "        dfs.append(pd.DataFrame(np.array(center),columns = ['X','Y']))\n",
    "        temp_roi[np.array(center,dtype = 'int')[:,0],np.array(center,dtype = 'int')[:,1]] = 255\n",
    "    else:\n",
    "        dfs.append(pd.DataFrame(np.transpose(np.array([[],[]])),columns = ['X','Y']))\n",
    "    rois.append(temp_roi)"
   ]
  },
  {
   "cell_type": "code",
   "execution_count": 8,
   "metadata": {},
   "outputs": [],
   "source": [
    "# save the coordinate files\n",
    "[df.to_csv(os.path.join(coordinate_path,img_list[idx].replace('.tif','')+'_coordinate.csv'),index = False) for idx,df in enumerate(dfs)]\n",
    "\n",
    "\n",
    "# SAVE CELL PROABABILITY\n",
    "# use this cell to check the distribution of cell probability\n",
    "[skimage.io.imsave(os.path.join(prob_path,img_list[idx].replace('.tif','') +'_prob.tif'),(flow[2] - np.min(flow[2])).astype('uint8')) for idx,flow in enumerate(flows)]\n",
    "\n",
    "# SAVE CELLPOSE RESULTS\n",
    "# saveing mask images\n",
    "[skimage.io.imsave(os.path.join(mask_path,img_list[idx].replace('.tif','') +'_mask.tif'),mask.astype('uint8')) for idx,mask in enumerate(masks)]\n",
    "\n",
    "# saving flow images\n",
    "[skimage.io.imsave(os.path.join(flow_path,img_list[idx].replace('.tif','') +'_flow.tif'),flow[0].astype('uint8')) for idx,flow in enumerate(flows)]\n",
    "\n",
    "# saving cell probability images\n",
    "[skimage.io.imsave(os.path.join(prob_path,img_list[idx].replace('.tif','') +'_prob.tif'),(flow[2] - np.min(flow[2])).astype('uint8')) for idx,flow in enumerate(flows)]\n",
    "\n",
    "# saving peak images\n",
    "[skimage.io.imsave(os.path.join(roi_path,img_list[idx].replace('.tif','') +'_roi.tif'),np.array([imgs[idx],roi]).astype('uint8')) for idx,roi in enumerate(rois)]\n",
    "\n",
    "end = time.time()\n",
    "duration = end - start\n",
    "print(duration +' s')"
   ]
  },
  {
   "cell_type": "code",
   "execution_count": 10,
   "metadata": {},
   "outputs": [],
   "source": [
    "# create a meta file that stores variables etc.\n",
    "# Write JSON file\n",
    "import json\n",
    "from datetime import datetime\n",
    "\n",
    "now = datetime.now()\n",
    "# dd/mm/YY H:M:S\n",
    "dt_string = now.strftime(\"%d%m%Y_%H%M%S\")\n",
    "\n",
    "meta = {\"Date\":str(now),\"Imgs\":img_list,\"model_type\":model_type,\"channel_type\":channel_type,\"diameter\":diameter,\"cellprob_threshold\":cellprob_threshold,\"flow_threshold\":flow_threshold,\"gpu\":gpu,\"duration\":duration}\n",
    "\n",
    "with open(os.path.join(meta_path,dt_string+'_meta.json'), 'w') as outfile:\n",
    "    json.dump(meta,outfile)\n",
    "with open(os.path.join(meta_path,dt_string+'_meta.json')) as data_file:\n",
    "    meta = json.load(data_file)\n"
   ]
  }
 ],
 "metadata": {
  "kernelspec": {
   "display_name": "Python 3",
   "language": "python",
   "name": "python3"
  },
  "language_info": {
   "codemirror_mode": {
    "name": "ipython",
    "version": 3
   },
   "file_extension": ".py",
   "mimetype": "text/x-python",
   "name": "python",
   "nbconvert_exporter": "python",
   "pygments_lexer": "ipython3",
   "version": "3.7.1"
  }
 },
 "nbformat": 4,
 "nbformat_minor": 2
}
